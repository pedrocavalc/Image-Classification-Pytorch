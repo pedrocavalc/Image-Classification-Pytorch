{
 "cells": [
  {
   "cell_type": "code",
   "execution_count": 312,
   "metadata": {},
   "outputs": [],
   "source": [
    "import torch\n",
    "import torchvision\n",
    "from torchvision.datasets import MNIST"
   ]
  },
  {
   "cell_type": "code",
   "execution_count": 313,
   "metadata": {},
   "outputs": [],
   "source": [
    "dataset = MNIST(root='data/',download= True)"
   ]
  },
  {
   "cell_type": "code",
   "execution_count": 314,
   "metadata": {},
   "outputs": [
    {
     "data": {
      "text/plain": [
       "60000"
      ]
     },
     "execution_count": 314,
     "metadata": {},
     "output_type": "execute_result"
    }
   ],
   "source": [
    "len(dataset)"
   ]
  },
  {
   "cell_type": "code",
   "execution_count": 315,
   "metadata": {},
   "outputs": [
    {
     "data": {
      "text/plain": [
       "10000"
      ]
     },
     "execution_count": 315,
     "metadata": {},
     "output_type": "execute_result"
    }
   ],
   "source": [
    "test_dataset = MNIST(root='data/',train=False)\n",
    "len(test_dataset)"
   ]
  },
  {
   "cell_type": "code",
   "execution_count": 316,
   "metadata": {},
   "outputs": [],
   "source": [
    "import matplotlib.pyplot as plt\n",
    "%matplotlib inline"
   ]
  },
  {
   "cell_type": "code",
   "execution_count": 317,
   "metadata": {},
   "outputs": [
    {
     "name": "stdout",
     "output_type": "stream",
     "text": [
      "Label: 5\n"
     ]
    },
    {
     "data": {
      "image/png": "[encoded data removed]",
      "text/plain": [
       "<Figure size 640x480 with 1 Axes>"
      ]
     },
     "metadata": {},
     "output_type": "display_data"
    }
   ],
   "source": [
    "image, label = dataset[0]\n",
    "plt.imshow(image,cmap='gray')\n",
    "print('Label:',label)"
   ]
  },
  {
   "cell_type": "code",
   "execution_count": 318,
   "metadata": {},
   "outputs": [
    {
     "name": "stdout",
     "output_type": "stream",
     "text": [
      "Label: 3\n"
     ]
    },
    {
     "data": {
      "image/png": "[encoded data removed]",
      "text/plain": [
       "<Figure size 640x480 with 1 Axes>"
      ]
     },
     "metadata": {},
     "output_type": "display_data"
    }
   ],
   "source": [
    "image, label = dataset[10]\n",
    "plt.imshow(image,cmap='gray')\n",
    "print('Label:',label)"
   ]
  },
  {
   "cell_type": "code",
   "execution_count": 319,
   "metadata": {},
   "outputs": [],
   "source": [
    "import torchvision.transforms as transforms"
   ]
  },
  {
   "cell_type": "code",
   "execution_count": 320,
   "metadata": {},
   "outputs": [],
   "source": [
    "dataset = MNIST(root='data/',train = True,transform=transforms.ToTensor())"
   ]
  },
  {
   "cell_type": "code",
   "execution_count": 321,
   "metadata": {},
   "outputs": [
    {
     "name": "stdout",
     "output_type": "stream",
     "text": [
      "torch.Size([1, 28, 28]) 5\n"
     ]
    }
   ],
   "source": [
    "img_tensor, label = dataset[0]\n",
    "print(img_tensor.shape,label)"
   ]
  },
  {
   "cell_type": "code",
   "execution_count": 322,
   "metadata": {},
   "outputs": [
    {
     "name": "stdout",
     "output_type": "stream",
     "text": [
      "tensor([[0.0039, 0.6039, 0.9922, 0.3529, 0.0000],\n",
      "        [0.0000, 0.5451, 0.9922, 0.7451, 0.0078],\n",
      "        [0.0000, 0.0431, 0.7451, 0.9922, 0.2745],\n",
      "        [0.0000, 0.0000, 0.1373, 0.9451, 0.8824],\n",
      "        [0.0000, 0.0000, 0.0000, 0.3176, 0.9412]])\n"
     ]
    }
   ],
   "source": [
    "print(img_tensor[0,10:15,10:15])"
   ]
  },
  {
   "cell_type": "code",
   "execution_count": 323,
   "metadata": {},
   "outputs": [
    {
     "data": {
      "text/plain": [
       "<matplotlib.image.AxesImage at 0x7fa8ea3949a0>"
      ]
     },
     "execution_count": 323,
     "metadata": {},
     "output_type": "execute_result"
    },
    {
     "data": {
      "image/png": "[encoded data removed]",
      "text/plain": [
       "<Figure size 640x480 with 1 Axes>"
      ]
     },
     "metadata": {},
     "output_type": "display_data"
    }
   ],
   "source": [
    "plt.imshow(img_tensor[0,10:15,10:15],cmap='gray')"
   ]
  },
  {
   "cell_type": "markdown",
   "metadata": {},
   "source": [
    "# Training and Validation Datasets"
   ]
  },
  {
   "cell_type": "code",
   "execution_count": 324,
   "metadata": {},
   "outputs": [
    {
     "data": {
      "text/plain": [
       "(50000, 10000)"
      ]
     },
     "execution_count": 324,
     "metadata": {},
     "output_type": "execute_result"
    }
   ],
   "source": [
    "from torch.utils.data import random_split\n",
    "\n",
    "train_ds,val_ds = random_split(dataset,[50000,10000])\n",
    "len(train_ds),len(val_ds)"
   ]
  },
  {
   "cell_type": "code",
   "execution_count": 325,
   "metadata": {},
   "outputs": [],
   "source": [
    "from torch.utils.data import DataLoader\n",
    "\n",
    "batch_size = 128\n",
    "\n",
    "train_loader = DataLoader(train_ds,batch_size,shuffle=True)\n",
    "val_loader = DataLoader(val_ds,batch_size)"
   ]
  },
  {
   "cell_type": "markdown",
   "metadata": {},
   "source": [
    "# Model\n"
   ]
  },
  {
   "cell_type": "code",
   "execution_count": 326,
   "metadata": {},
   "outputs": [],
   "source": [
    "import torch.nn as nn\n",
    "\n",
    "input_size = 28 * 28\n",
    "num_classes = 10\n",
    "\n",
    "# logist regression model\n",
    "\n",
    "model = nn.Linear(input_size,num_classes)"
   ]
  },
  {
   "cell_type": "code",
   "execution_count": 327,
   "metadata": {},
   "outputs": [
    {
     "name": "stdout",
     "output_type": "stream",
     "text": [
      "torch.Size([10, 784])\n"
     ]
    },
    {
     "data": {
      "text/plain": [
       "Parameter containing:\n",
       "tensor([[-0.0148,  0.0133, -0.0115,  ..., -0.0007,  0.0097,  0.0052],\n",
       "        [-0.0077, -0.0176,  0.0281,  ..., -0.0243, -0.0059,  0.0223],\n",
       "        [ 0.0103, -0.0035, -0.0176,  ..., -0.0342,  0.0240, -0.0143],\n",
       "        ...,\n",
       "        [-0.0316, -0.0152, -0.0106,  ...,  0.0238,  0.0156, -0.0318],\n",
       "        [-0.0090, -0.0103,  0.0262,  ..., -0.0151, -0.0156,  0.0110],\n",
       "        [-0.0117, -0.0187, -0.0005,  ...,  0.0282,  0.0128,  0.0203]],\n",
       "       requires_grad=True)"
      ]
     },
     "execution_count": 327,
     "metadata": {},
     "output_type": "execute_result"
    }
   ],
   "source": [
    "print(model.weight.shape)\n",
    "model.weight"
   ]
  },
  {
   "cell_type": "code",
   "execution_count": 328,
   "metadata": {},
   "outputs": [
    {
     "name": "stdout",
     "output_type": "stream",
     "text": [
      "torch.Size([10])\n"
     ]
    },
    {
     "data": {
      "text/plain": [
       "Parameter containing:\n",
       "tensor([-0.0140, -0.0295,  0.0256,  0.0234, -0.0169,  0.0211,  0.0107, -0.0346,\n",
       "        -0.0030, -0.0146], requires_grad=True)"
      ]
     },
     "execution_count": 328,
     "metadata": {},
     "output_type": "execute_result"
    }
   ],
   "source": [
    "print(model.bias.shape)\n",
    "model.bias"
   ]
  },
  {
   "cell_type": "code",
   "execution_count": 329,
   "metadata": {},
   "outputs": [],
   "source": [
    "# for images, label in train_loader:\n",
    "#     print(label)\n",
    "#     print(images.shape)\n",
    "#     outputs = model(images)\n",
    "#     print(outputs)\n",
    "#     break\n",
    "    "
   ]
  },
  {
   "cell_type": "code",
   "execution_count": 330,
   "metadata": {},
   "outputs": [
    {
     "data": {
      "text/plain": [
       "torch.Size([128, 1, 28, 28])"
      ]
     },
     "execution_count": 330,
     "metadata": {},
     "output_type": "execute_result"
    }
   ],
   "source": [
    "images.shape"
   ]
  },
  {
   "cell_type": "code",
   "execution_count": 331,
   "metadata": {},
   "outputs": [
    {
     "data": {
      "text/plain": [
       "torch.Size([128, 784])"
      ]
     },
     "execution_count": 331,
     "metadata": {},
     "output_type": "execute_result"
    }
   ],
   "source": [
    "images.reshape(128,784).shape"
   ]
  },
  {
   "cell_type": "code",
   "execution_count": 332,
   "metadata": {},
   "outputs": [],
   "source": [
    "class MnistModel(nn.Module):\n",
    "    def __init__(self):\n",
    "        super().__init__()\n",
    "        self.linear = nn.Linear(input_size,num_classes)\n",
    "\n",
    "    def forward(self,xb):\n",
    "        xb = xb.reshape(-1,784)\n",
    "        out = self.linear(xb)\n",
    "        return out\n",
    "\n",
    "model = MnistModel()    "
   ]
  },
  {
   "cell_type": "code",
   "execution_count": 333,
   "metadata": {},
   "outputs": [
    {
     "data": {
      "text/plain": [
       "Linear(in_features=784, out_features=10, bias=True)"
      ]
     },
     "execution_count": 333,
     "metadata": {},
     "output_type": "execute_result"
    }
   ],
   "source": [
    "model.linear"
   ]
  },
  {
   "cell_type": "code",
   "execution_count": 334,
   "metadata": {},
   "outputs": [
    {
     "name": "stdout",
     "output_type": "stream",
     "text": [
      "torch.Size([10, 784]) torch.Size([10])\n"
     ]
    },
    {
     "data": {
      "text/plain": [
       "[Parameter containing:\n",
       " tensor([[-0.0198, -0.0209,  0.0230,  ...,  0.0311,  0.0128, -0.0334],\n",
       "         [-0.0311, -0.0065, -0.0345,  ...,  0.0309,  0.0238, -0.0118],\n",
       "         [-0.0320, -0.0258, -0.0132,  ...,  0.0290,  0.0300, -0.0222],\n",
       "         ...,\n",
       "         [ 0.0312,  0.0333,  0.0033,  ...,  0.0107,  0.0056,  0.0261],\n",
       "         [-0.0286, -0.0194,  0.0217,  ...,  0.0345,  0.0296, -0.0130],\n",
       "         [ 0.0070, -0.0258, -0.0142,  ...,  0.0244,  0.0250,  0.0357]],\n",
       "        requires_grad=True),\n",
       " Parameter containing:\n",
       " tensor([-0.0167, -0.0137,  0.0064,  0.0250,  0.0352,  0.0329, -0.0344,  0.0110,\n",
       "         -0.0222,  0.0289], requires_grad=True)]"
      ]
     },
     "execution_count": 334,
     "metadata": {},
     "output_type": "execute_result"
    }
   ],
   "source": [
    "print(model.linear.weight.shape,model.linear.bias.shape)\n",
    "list(model.parameters())"
   ]
  },
  {
   "cell_type": "code",
   "execution_count": 335,
   "metadata": {},
   "outputs": [
    {
     "name": "stdout",
     "output_type": "stream",
     "text": [
      "torch.Size([128, 1, 28, 28])\n",
      "output.shape torch.Size([128, 10])\n",
      "sample outputs:\n",
      " tensor([[ 0.1594, -0.1810, -0.0227,  0.2203,  0.2853,  0.0325,  0.0484, -0.4057,\n",
      "         -0.1532,  0.3611],\n",
      "        [ 0.0011, -0.1282, -0.3514,  0.0243, -0.1011, -0.2907, -0.3082, -0.2532,\n",
      "         -0.1789,  0.1124]])\n"
     ]
    }
   ],
   "source": [
    "for images, labels in train_loader:\n",
    "    print(images.shape)\n",
    "    outputs = model(images)\n",
    "    break\n",
    "\n",
    "print('output.shape',outputs.shape)\n",
    "print('sample outputs:\\n',outputs[:2].data)"
   ]
  },
  {
   "cell_type": "code",
   "execution_count": 336,
   "metadata": {},
   "outputs": [],
   "source": [
    "import torch.nn.functional as F"
   ]
  },
  {
   "cell_type": "code",
   "execution_count": 337,
   "metadata": {},
   "outputs": [
    {
     "name": "stdout",
     "output_type": "stream",
     "text": [
      "Sample probabilities:\n",
      " tensor([[0.1106, 0.0787, 0.0922, 0.1176, 0.1254, 0.0974, 0.0990, 0.0629, 0.0809,\n",
      "         0.1353],\n",
      "        [0.1147, 0.1008, 0.0806, 0.1174, 0.1036, 0.0857, 0.0842, 0.0890, 0.0958,\n",
      "         0.1282]])\n",
      "Sum:  1.0\n"
     ]
    }
   ],
   "source": [
    "probs = F.softmax(outputs,dim = 1)\n",
    "\n",
    "print('Sample probabilities:\\n',probs[:2].data)\n",
    "\n",
    "print('Sum: ', torch.sum(probs[0]).item())"
   ]
  },
  {
   "cell_type": "code",
   "execution_count": 338,
   "metadata": {},
   "outputs": [
    {
     "name": "stdout",
     "output_type": "stream",
     "text": [
      "tensor([9, 9, 1, 9, 1, 1, 9, 9, 0, 9, 4, 4, 0, 9, 4, 3, 3, 0, 1, 3, 7, 0, 3, 0,\n",
      "        3, 9, 1, 1, 0, 3, 3, 3, 0, 9, 3, 0, 4, 4, 9, 0, 1, 1, 9, 0, 4, 3, 0, 9,\n",
      "        9, 9, 0, 3, 3, 9, 3, 1, 9, 1, 3, 9, 4, 3, 3, 1, 3, 4, 5, 0, 4, 3, 5, 5,\n",
      "        0, 3, 3, 0, 3, 3, 3, 9, 3, 9, 4, 3, 4, 5, 4, 9, 3, 3, 1, 5, 9, 3, 1, 1,\n",
      "        3, 1, 0, 0, 3, 1, 0, 3, 4, 9, 0, 9, 1, 4, 0, 1, 1, 0, 9, 3, 3, 9, 9, 1,\n",
      "        7, 0, 9, 5, 9, 0, 0, 4])\n",
      "tensor([0.1353, 0.1282, 0.1349, 0.1234, 0.1287, 0.1392, 0.1297, 0.1233, 0.1213,\n",
      "        0.1352, 0.1320, 0.1364, 0.1225, 0.1448, 0.1177, 0.1643, 0.1410, 0.1376,\n",
      "        0.1462, 0.1525, 0.1311, 0.1580, 0.1329, 0.1385, 0.1294, 0.1326, 0.1401,\n",
      "        0.1318, 0.1368, 0.1358, 0.1239, 0.1399, 0.1440, 0.1235, 0.1369, 0.1395,\n",
      "        0.1713, 0.1208, 0.1366, 0.1321, 0.1348, 0.1456, 0.1494, 0.1506, 0.1425,\n",
      "        0.1263, 0.1233, 0.1305, 0.1538, 0.1382, 0.1307, 0.1337, 0.1610, 0.1262,\n",
      "        0.1205, 0.1147, 0.1433, 0.1315, 0.1274, 0.1432, 0.1289, 0.1165, 0.1266,\n",
      "        0.1558, 0.1284, 0.1338, 0.1256, 0.1433, 0.1308, 0.1444, 0.1324, 0.1204,\n",
      "        0.1347, 0.1358, 0.1291, 0.1402, 0.1457, 0.1238, 0.1335, 0.1225, 0.1302,\n",
      "        0.1465, 0.1246, 0.1499, 0.1311, 0.1427, 0.1278, 0.1497, 0.1328, 0.1548,\n",
      "        0.1423, 0.1390, 0.1547, 0.1314, 0.1387, 0.1276, 0.1227, 0.1322, 0.1262,\n",
      "        0.1588, 0.1611, 0.1442, 0.1331, 0.1308, 0.1372, 0.1195, 0.1616, 0.1401,\n",
      "        0.1403, 0.1371, 0.1373, 0.1194, 0.1140, 0.1438, 0.1494, 0.1295, 0.1393,\n",
      "        0.1292, 0.1273, 0.1261, 0.1345, 0.1505, 0.1193, 0.1239, 0.1378, 0.1514,\n",
      "        0.1260, 0.1250], grad_fn=<MaxBackward0>)\n"
     ]
    }
   ],
   "source": [
    "max_probs, preds = torch.max(probs,dim=1)\n",
    "print(preds)\n",
    "print(max_probs)"
   ]
  },
  {
   "cell_type": "code",
   "execution_count": 339,
   "metadata": {},
   "outputs": [
    {
     "data": {
      "text/plain": [
       "tensor([0, 9, 5, 9, 3, 5, 8, 1, 8, 0, 1, 6, 7, 3, 1, 5, 6, 9, 6, 6, 7, 8, 3, 7,\n",
       "        0, 0, 0, 5, 2, 8, 3, 8, 9, 3, 0, 8, 2, 0, 9, 7, 8, 3, 5, 4, 6, 1, 2, 9,\n",
       "        0, 5, 4, 8, 6, 1, 1, 1, 1, 5, 3, 3, 4, 3, 0, 3, 7, 6, 5, 4, 9, 2, 6, 0,\n",
       "        9, 8, 1, 4, 0, 8, 8, 9, 7, 1, 1, 2, 1, 9, 0, 6, 2, 6, 0, 7, 8, 6, 4, 3,\n",
       "        5, 6, 0, 4, 3, 5, 4, 1, 1, 9, 4, 0, 5, 6, 7, 5, 6, 6, 4, 1, 2, 6, 7, 4,\n",
       "        7, 6, 9, 3, 7, 4, 4, 1])"
      ]
     },
     "execution_count": 339,
     "metadata": {},
     "output_type": "execute_result"
    }
   ],
   "source": [
    "labels"
   ]
  },
  {
   "cell_type": "markdown",
   "metadata": {},
   "source": [
    "# Evaluation Metric"
   ]
  },
  {
   "cell_type": "code",
   "execution_count": 340,
   "metadata": {},
   "outputs": [],
   "source": [
    "def accuracy(outputs,labels):\n",
    "    _, pred = torch.max(outputs,dim=1)\n",
    "    return torch.tensor(torch.sum(pred == labels).item()/len(preds))"
   ]
  },
  {
   "cell_type": "code",
   "execution_count": 341,
   "metadata": {},
   "outputs": [
    {
     "data": {
      "text/plain": [
       "tensor(0.1406)"
      ]
     },
     "execution_count": 341,
     "metadata": {},
     "output_type": "execute_result"
    }
   ],
   "source": [
    "accuracy(outputs,labels)"
   ]
  },
  {
   "cell_type": "code",
   "execution_count": 342,
   "metadata": {},
   "outputs": [
    {
     "data": {
      "text/plain": [
       "tensor([[0.1106, 0.0787, 0.0922,  ..., 0.0629, 0.0809, 0.1353],\n",
       "        [0.1147, 0.1008, 0.0806,  ..., 0.0890, 0.0958, 0.1282],\n",
       "        [0.1232, 0.1349, 0.0651,  ..., 0.0737, 0.0818, 0.1050],\n",
       "        ...,\n",
       "        [0.1514, 0.0906, 0.0869,  ..., 0.1102, 0.0706, 0.1105],\n",
       "        [0.1260, 0.1226, 0.0935,  ..., 0.0916, 0.0807, 0.1105],\n",
       "        [0.0920, 0.0995, 0.0834,  ..., 0.0985, 0.0947, 0.1101]],\n",
       "       grad_fn=<SoftmaxBackward>)"
      ]
     },
     "execution_count": 342,
     "metadata": {},
     "output_type": "execute_result"
    }
   ],
   "source": [
    "probs"
   ]
  },
  {
   "cell_type": "code",
   "execution_count": 343,
   "metadata": {},
   "outputs": [
    {
     "data": {
      "text/plain": [
       "tensor([[ 0.1594, -0.1810, -0.0227,  ..., -0.4057, -0.1532,  0.3611],\n",
       "        [ 0.0011, -0.1282, -0.3514,  ..., -0.2532, -0.1789,  0.1124],\n",
       "        [ 0.1441,  0.2351, -0.4935,  ..., -0.3693, -0.2652, -0.0156],\n",
       "        ...,\n",
       "        [ 0.3952, -0.1179, -0.1596,  ...,  0.0777, -0.3681,  0.0802],\n",
       "        [ 0.1582,  0.1308, -0.1405,  ..., -0.1605, -0.2872,  0.0264],\n",
       "        [-0.1729, -0.0949, -0.2717,  ..., -0.1049, -0.1444,  0.0066]],\n",
       "       grad_fn=<AddmmBackward>)"
      ]
     },
     "execution_count": 343,
     "metadata": {},
     "output_type": "execute_result"
    }
   ],
   "source": [
    "outputs"
   ]
  },
  {
   "cell_type": "code",
   "execution_count": 344,
   "metadata": {},
   "outputs": [],
   "source": [
    "loss_fn = F.cross_entropy"
   ]
  },
  {
   "cell_type": "code",
   "execution_count": 345,
   "metadata": {},
   "outputs": [
    {
     "name": "stdout",
     "output_type": "stream",
     "text": [
      "tensor(2.3047, grad_fn=<NllLossBackward>)\n"
     ]
    }
   ],
   "source": [
    "loss = loss_fn(outputs,labels)\n",
    "print(loss)"
   ]
  },
  {
   "cell_type": "markdown",
   "metadata": {},
   "source": [
    "# Training the model"
   ]
  },
  {
   "cell_type": "code",
   "execution_count": 346,
   "metadata": {},
   "outputs": [],
   "source": [
    "def evaluate(model, val_loader):\n",
    "    outputs = [model.validation_step(batch) for batch in val_loader]\n",
    "    return model.validation_epoch_end(outputs)"
   ]
  },
  {
   "cell_type": "code",
   "execution_count": 347,
   "metadata": {},
   "outputs": [],
   "source": [
    "class MnistModel(nn.Module):\n",
    "    def __init__(self):\n",
    "        super().__init__()\n",
    "        self.linear = nn.Linear(input_size,num_classes)\n",
    "    \n",
    "    def forward(self,xb):\n",
    "        xb = xb.reshape(-1,784)\n",
    "        out = self.linear(xb)\n",
    "        return out\n",
    "    \n",
    "    def training_step(self,batch):\n",
    "        images,labels = batch\n",
    "        out = self(images)\n",
    "        loss = F.cross_entropy(out,labels)\n",
    "        return loss\n",
    "    \n",
    "    def validation_step(self,batch):\n",
    "        images,labels = batch\n",
    "        out = self(images)\n",
    "        loss = F.cross_entropy(out,labels)\n",
    "        acc = accuracy(out,labels)\n",
    "        return {'val_loss': loss,'val_acc':acc}\n",
    "    \n",
    "    def validation_epoch_end(self,outputs):\n",
    "        batch_losses = [x['val_loss'] for x in outputs]\n",
    "        epoch_loss = torch.stack(batch_losses).mean()\n",
    "        batch_accs = [x['val_acc']for x in outputs]\n",
    "        epoch_acc = torch.stack(batch_accs).mean()\n",
    "        return {'val_loss':epoch_loss.item(),'val_acc':epoch_acc.item()}\n",
    "    \n",
    "    def epoch_end(self,epoch,result):\n",
    "        print('Epoch[{}],val_loss {:.4f},val_acc:{:.4f}'.format(epoch,result['val_loss'],result['val_acc']))\n",
    "\n",
    "model = MnistModel()"
   ]
  },
  {
   "cell_type": "code",
   "execution_count": 348,
   "metadata": {},
   "outputs": [],
   "source": [
    "def fit (epochs,lr,model,train_loader,val_loader,opt_func = torch.optim.SGD):\n",
    "    optimizer = opt_func(model.parameters(),lr)\n",
    "    history = []\n",
    "\n",
    "    for epoch in range(epochs):\n",
    "\n",
    "        for batch in train_loader:\n",
    "            loss = model.training_step(batch)\n",
    "            loss.backward()\n",
    "            optimizer.step()\n",
    "            optimizer.zero_grad()\n",
    "        \n",
    "        result = evaluate(model,val_loader)\n",
    "        model.epoch_end(epoch,result)\n",
    "        history.append(result)\n",
    "    \n",
    "    return history"
   ]
  },
  {
   "cell_type": "code",
   "execution_count": 349,
   "metadata": {},
   "outputs": [
    {
     "data": {
      "text/plain": [
       "{'val_loss': 2.341048240661621, 'val_acc': 0.15565665066242218}"
      ]
     },
     "execution_count": 349,
     "metadata": {},
     "output_type": "execute_result"
    }
   ],
   "source": [
    "result = evaluate(model,val_loader)\n",
    "result"
   ]
  },
  {
   "cell_type": "code",
   "execution_count": 350,
   "metadata": {},
   "outputs": [
    {
     "name": "stdout",
     "output_type": "stream",
     "text": [
      "Epoch [0], val_loss: 1.9654, val_acc: 0.5823\n",
      "Epoch [1], val_loss: 1.6932, val_acc: 0.7120\n",
      "Epoch [2], val_loss: 1.4898, val_acc: 0.7468\n",
      "Epoch [3], val_loss: 1.3360, val_acc: 0.7717\n",
      "Epoch [4], val_loss: 1.2176, val_acc: 0.7847\n"
     ]
    }
   ],
   "source": [
    "history1 = fit(5,0.001,model,train_loader,val_loader)"
   ]
  },
  {
   "cell_type": "code",
   "execution_count": 351,
   "metadata": {},
   "outputs": [
    {
     "name": "stdout",
     "output_type": "stream",
     "text": [
      "Epoch [0], val_loss: 1.1247, val_acc: 0.7939\n",
      "Epoch [1], val_loss: 1.0501, val_acc: 0.8026\n",
      "Epoch [2], val_loss: 0.9892, val_acc: 0.8084\n",
      "Epoch [3], val_loss: 0.9384, val_acc: 0.8127\n",
      "Epoch [4], val_loss: 0.8957, val_acc: 0.8171\n"
     ]
    }
   ],
   "source": [
    "history2 = fit(5,0.001,model,train_loader,val_loader)"
   ]
  },
  {
   "cell_type": "code",
   "execution_count": 352,
   "metadata": {},
   "outputs": [
    {
     "name": "stdout",
     "output_type": "stream",
     "text": [
      "Epoch [0], val_loss: 0.8590, val_acc: 0.8213\n",
      "Epoch [1], val_loss: 0.8272, val_acc: 0.8235\n",
      "Epoch [2], val_loss: 0.7995, val_acc: 0.8253\n",
      "Epoch [3], val_loss: 0.7750, val_acc: 0.8260\n",
      "Epoch [4], val_loss: 0.7532, val_acc: 0.8293\n"
     ]
    }
   ],
   "source": [
    "history3 = fit(5,0.001,model,train_loader,val_loader)"
   ]
  },
  {
   "cell_type": "code",
   "execution_count": 353,
   "metadata": {},
   "outputs": [
    {
     "name": "stdout",
     "output_type": "stream",
     "text": [
      "Epoch [0], val_loss: 0.7336, val_acc: 0.8315\n",
      "Epoch [1], val_loss: 0.7160, val_acc: 0.8338\n",
      "Epoch [2], val_loss: 0.7001, val_acc: 0.8360\n",
      "Epoch [3], val_loss: 0.6855, val_acc: 0.8378\n",
      "Epoch [4], val_loss: 0.6722, val_acc: 0.8390\n"
     ]
    }
   ],
   "source": [
    "history4 = fit(5,0.001,model,train_loader,val_loader)"
   ]
  },
  {
   "cell_type": "code",
   "execution_count": 354,
   "metadata": {},
   "outputs": [
    {
     "data": {
      "text/plain": [
       "Text(0.5, 1.0, 'Accuracy vs N° of epochs')"
      ]
     },
     "execution_count": 354,
     "metadata": {},
     "output_type": "execute_result"
    },
    {
     "data": {
      "image/png": "[encoded data removed]",
      "text/plain": [
       "<Figure size 640x480 with 1 Axes>"
      ]
     },
     "metadata": {},
     "output_type": "display_data"
    }
   ],
   "source": [
    "history = [result] + history1 + history2 + history3+ history4\n",
    "accuracies = [results['val_acc'] for results in history]\n",
    "plt.plot(accuracies,'-x')\n",
    "plt.xlabel('epoch')\n",
    "plt.ylabel('accuracy')\n",
    "plt.title('Accuracy vs N° of epochs')\n",
    "\n"
   ]
  },
  {
   "cell_type": "markdown",
   "metadata": {},
   "source": [
    "# Testing in images"
   ]
  },
  {
   "cell_type": "code",
   "execution_count": 355,
   "metadata": {},
   "outputs": [],
   "source": [
    "test_dataset = MNIST(root ='data/',train = False,transform=transforms.ToTensor())"
   ]
  },
  {
   "cell_type": "code",
   "execution_count": 356,
   "metadata": {},
   "outputs": [
    {
     "name": "stdout",
     "output_type": "stream",
     "text": [
      "shape torch.Size([1, 28, 28])\n",
      "label: 7\n"
     ]
    },
    {
     "data": {
      "image/png": "[encoded data removed]",
      "text/plain": [
       "<Figure size 640x480 with 1 Axes>"
      ]
     },
     "metadata": {},
     "output_type": "display_data"
    }
   ],
   "source": [
    "img, label = test_dataset[0]\n",
    "plt.imshow(img[0],cmap='gray')\n",
    "print('shape',img.shape)\n",
    "print('label:', label)"
   ]
  },
  {
   "cell_type": "code",
   "execution_count": 357,
   "metadata": {},
   "outputs": [],
   "source": [
    "def predict_image(img,model):\n",
    "    xb = img.unsqueeze(0)\n",
    "    yb = model(xb)\n",
    "    _,preds = torch.max(yb,dim=1)\n",
    "    return preds[0].item()"
   ]
  },
  {
   "cell_type": "code",
   "execution_count": 358,
   "metadata": {},
   "outputs": [
    {
     "name": "stdout",
     "output_type": "stream",
     "text": [
      "Label: 7 ,Predicted: 7\n"
     ]
    },
    {
     "data": {
      "image/png": "[encoded data removed]",
      "text/plain": [
       "<Figure size 640x480 with 1 Axes>"
      ]
     },
     "metadata": {},
     "output_type": "display_data"
    }
   ],
   "source": [
    "img,label = test_dataset[0]\n",
    "plt.imshow(img[0],cmap='gray')\n",
    "print('Label:',label,',Predicted:',predict_image(img,model))"
   ]
  },
  {
   "cell_type": "code",
   "execution_count": 359,
   "metadata": {},
   "outputs": [
    {
     "name": "stdout",
     "output_type": "stream",
     "text": [
      "Label: 0 ,Predicted: 0\n"
     ]
    },
    {
     "data": {
      "image/png": "[encoded data removed]",
      "text/plain": [
       "<Figure size 640x480 with 1 Axes>"
      ]
     },
     "metadata": {},
     "output_type": "display_data"
    }
   ],
   "source": [
    "img,label = test_dataset[10]\n",
    "plt.imshow(img[0],cmap='gray')\n",
    "print('Label:',label,',Predicted:',predict_image(img,model))"
   ]
  },
  {
   "cell_type": "code",
   "execution_count": 360,
   "metadata": {},
   "outputs": [
    {
     "name": "stdout",
     "output_type": "stream",
     "text": [
      "Label: 9 ,Predicted: 3\n"
     ]
    },
    {
     "data": {
      "image/png": "[encoded data removed]",
      "text/plain": [
       "<Figure size 640x480 with 1 Axes>"
      ]
     },
     "metadata": {},
     "output_type": "display_data"
    }
   ],
   "source": [
    "img,label = test_dataset[193]\n",
    "plt.imshow(img[0],cmap='gray')\n",
    "print('Label:',label,',Predicted:',predict_image(img,model))"
   ]
  },
  {
   "cell_type": "code",
   "execution_count": 361,
   "metadata": {},
   "outputs": [
    {
     "name": "stdout",
     "output_type": "stream",
     "text": [
      "Label: 2 ,Predicted: 8\n"
     ]
    },
    {
     "data": {
      "image/png": "[encoded data removed]",
      "text/plain": [
       "<Figure size 640x480 with 1 Axes>"
      ]
     },
     "metadata": {},
     "output_type": "display_data"
    }
   ],
   "source": [
    "img,label = test_dataset[1839]\n",
    "plt.imshow(img[0],cmap='gray')\n",
    "print('Label:',label,',Predicted:',predict_image(img,model))"
   ]
  },
  {
   "cell_type": "code",
   "execution_count": 366,
   "metadata": {},
   "outputs": [
    {
     "data": {
      "text/plain": [
       "{'val_loss': 0.6396661996841431, 'val_acc': 1.686914086341858}"
      ]
     },
     "execution_count": 366,
     "metadata": {},
     "output_type": "execute_result"
    }
   ],
   "source": [
    "test_loader = DataLoader(test_dataset,batch_size=256)\n",
    "result = evaluate(model,test_loader)\n",
    "result "
   ]
  },
  {
   "cell_type": "markdown",
   "metadata": {},
   "source": [
    "# Saving and loading model"
   ]
  },
  {
   "cell_type": "code",
   "execution_count": 363,
   "metadata": {},
   "outputs": [],
   "source": [
    "torch.save(model.state_dict(),'mnist-logistic.pth')"
   ]
  },
  {
   "cell_type": "code",
   "execution_count": 364,
   "metadata": {},
   "outputs": [
    {
     "data": {
      "text/plain": [
       "OrderedDict([('linear.weight',\n",
       "              tensor([[ 0.0237, -0.0206, -0.0219,  ..., -0.0346, -0.0175, -0.0058],\n",
       "                      [ 0.0063,  0.0135,  0.0259,  ...,  0.0188,  0.0309, -0.0168],\n",
       "                      [ 0.0019, -0.0331, -0.0112,  ..., -0.0307, -0.0233, -0.0347],\n",
       "                      ...,\n",
       "                      [-0.0352,  0.0043,  0.0292,  ...,  0.0317, -0.0058, -0.0232],\n",
       "                      [ 0.0265, -0.0002,  0.0084,  ..., -0.0334,  0.0317,  0.0189],\n",
       "                      [-0.0285,  0.0278, -0.0253,  ...,  0.0340,  0.0228,  0.0061]])),\n",
       "             ('linear.bias',\n",
       "              tensor([-0.0577,  0.0880,  0.0117, -0.0174,  0.0174,  0.0449, -0.0336,  0.0569,\n",
       "                      -0.0721, -0.0276]))])"
      ]
     },
     "execution_count": 364,
     "metadata": {},
     "output_type": "execute_result"
    }
   ],
   "source": [
    "model.state_dict()"
   ]
  },
  {
   "cell_type": "code",
   "execution_count": 365,
   "metadata": {},
   "outputs": [
    {
     "data": {
      "text/plain": [
       "<All keys matched successfully>"
      ]
     },
     "execution_count": 365,
     "metadata": {},
     "output_type": "execute_result"
    }
   ],
   "source": [
    "mode12 = MnistModel()\n",
    "mode12.load_state_dict(torch.load('mnist-logistic.pth'))\n"
   ]
  }
 ],
 "metadata": {
  "kernelspec": {
   "display_name": "Python 3.8.13 ('01-pytorch-basics')",
   "language": "python",
   "name": "python3"
  },
  "language_info": {
   "codemirror_mode": {
    "name": "ipython",
    "version": 3
   },
   "file_extension": ".py",
   "mimetype": "text/x-python",
   "name": "python",
   "nbconvert_exporter": "python",
   "pygments_lexer": "ipython3",
   "version": "3.8.13"
  },
  "orig_nbformat": 4,
  "vscode": {
   "interpreter": {
    "hash": "591ad9528dc0ae021c260ba8cbd5b5656dd6ba6f1d2e517ce057f283becb4cd7"
   }
  }
 },
 "nbformat": 4,
 "nbformat_minor": 2
}
